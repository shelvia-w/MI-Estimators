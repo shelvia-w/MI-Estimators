{
 "cells": [
  {
   "cell_type": "markdown",
   "id": "1db9d72d",
   "metadata": {},
   "source": [
    "## Mutual Information Estimation of Correlated Gaussians"
   ]
  },
  {
   "cell_type": "code",
   "execution_count": 1,
   "id": "5c0b2523",
   "metadata": {},
   "outputs": [
    {
     "name": "stderr",
     "output_type": "stream",
     "text": [
      "2024-07-01 11:52:36.046854: E external/local_xla/xla/stream_executor/cuda/cuda_dnn.cc:9373] Unable to register cuDNN factory: Attempting to register factory for plugin cuDNN when one has already been registered\n",
      "2024-07-01 11:52:36.046928: E external/local_xla/xla/stream_executor/cuda/cuda_fft.cc:607] Unable to register cuFFT factory: Attempting to register factory for plugin cuFFT when one has already been registered\n",
      "2024-07-01 11:52:36.048790: E external/local_xla/xla/stream_executor/cuda/cuda_blas.cc:1534] Unable to register cuBLAS factory: Attempting to register factory for plugin cuBLAS when one has already been registered\n",
      "2024-07-01 11:52:36.057460: I tensorflow/core/platform/cpu_feature_guard.cc:183] This TensorFlow binary is optimized to use available CPU instructions in performance-critical operations.\n",
      "To enable the following instructions: SSE3 SSE4.1 SSE4.2 AVX, in other operations, rebuild TensorFlow with the appropriate compiler flags.\n"
     ]
    }
   ],
   "source": [
    "import numpy as np\n",
    "import tensorflow as tf\n",
    "\n",
    "from estimators.binning_estimators import calc_bin_mi\n",
    "from estimators.kde_estimators import calc_kde_gaussian_mi, calc_kde_mi\n",
    "from estimators.knn_estimators import calc_ksg_mi_cc\n",
    "from estimators.neural_estimators import calc_neural_mi"
   ]
  },
  {
   "cell_type": "markdown",
   "id": "bad08365",
   "metadata": {},
   "source": [
    "### Generate Correlated Gaussians Dataset"
   ]
  },
  {
   "cell_type": "code",
   "execution_count": 2,
   "id": "c3ef6d93",
   "metadata": {},
   "outputs": [],
   "source": [
    "def generate_data(rho, n, d):\n",
    "    mean = [0,0]\n",
    "    cov = np.array([[1,rho],[rho,1]])\n",
    "    X = np.zeros((n,d))\n",
    "    Y = np.zeros((n,d))\n",
    "    for j in range(d):\n",
    "        data = np.random.multivariate_normal(mean=mean, cov=cov, size=n)\n",
    "        X[:,j] = data[:,0]\n",
    "        Y[:,j] = data[:,1]\n",
    "        \n",
    "    return X,Y"
   ]
  },
  {
   "cell_type": "code",
   "execution_count": 3,
   "id": "bdff3a0b",
   "metadata": {},
   "outputs": [
    {
     "name": "stdout",
     "output_type": "stream",
     "text": [
      "True I(X;Y): 1.022\n"
     ]
    }
   ],
   "source": [
    "rho = 0.8\n",
    "d = 2\n",
    "n = 10000\n",
    "\n",
    "X,Y = generate_data(rho,n,d)\n",
    "print(f'True I(X;Y): {-d/2*np.log(1-rho**2):.3f}')"
   ]
  },
  {
   "cell_type": "markdown",
   "id": "a4dac99f",
   "metadata": {},
   "source": [
    "### Binning Estimator"
   ]
  },
  {
   "cell_type": "code",
   "execution_count": 60,
   "id": "05c67c78",
   "metadata": {},
   "outputs": [
    {
     "name": "stdout",
     "output_type": "stream",
     "text": [
      "Method: fd, I(X;Y) = 4.622\n",
      "Method: doane, I(X;Y) = 1.161\n",
      "Method: scott, I(X;Y) = 3.709\n",
      "Method: rice, I(X;Y) = 3.375\n",
      "Method: sturges, I(X;Y) = 1.161\n",
      "Method: sqrt, I(X;Y) = 6.148\n"
     ]
    }
   ],
   "source": [
    "for method in ['fd', 'doane', 'scott', 'rice', 'sturges', 'sqrt']:\n",
    "    mi = calc_bin_mi(X,Y,method)\n",
    "    print(f'Method: {method}, I(X;Y) = {mi:.3f}')"
   ]
  },
  {
   "cell_type": "markdown",
   "id": "1f6bb83f",
   "metadata": {},
   "source": [
    "### KDE Estimator"
   ]
  },
  {
   "cell_type": "code",
   "execution_count": 61,
   "id": "d9184d58",
   "metadata": {},
   "outputs": [
    {
     "name": "stdout",
     "output_type": "stream",
     "text": [
      "I(X;Y) = 1.155\n"
     ]
    }
   ],
   "source": [
    "mi = calc_kde_gaussian_mi(X, Y, bandwidth='silverman', mode='resubstitution')\n",
    "print(f'I(X;Y) = {mi:.3f}')"
   ]
  },
  {
   "cell_type": "code",
   "execution_count": 62,
   "id": "56b83a9f",
   "metadata": {},
   "outputs": [
    {
     "name": "stdout",
     "output_type": "stream",
     "text": [
      "Kernel: gaussian, Bandwidth: scott, I(X;Y) = 0.977\n",
      "Kernel: gaussian, Bandwidth: silverman, I(X;Y) = 0.999\n",
      "Kernel: tophat, Bandwidth: scott, I(X;Y) = 1.246\n",
      "Kernel: tophat, Bandwidth: silverman, I(X;Y) = 1.290\n",
      "Kernel: epanechnikov, Bandwidth: scott, I(X;Y) = 1.571\n",
      "Kernel: epanechnikov, Bandwidth: silverman, I(X;Y) = 1.655\n",
      "Kernel: exponential, Bandwidth: scott, I(X;Y) = 0.559\n",
      "Kernel: exponential, Bandwidth: silverman, I(X;Y) = 0.606\n",
      "Kernel: linear, Bandwidth: scott, I(X;Y) = 1.773\n",
      "Kernel: linear, Bandwidth: silverman, I(X;Y) = 1.877\n",
      "Kernel: cosine, Bandwidth: scott, I(X;Y) = nan\n",
      "Kernel: cosine, Bandwidth: silverman, I(X;Y) = nan\n"
     ]
    }
   ],
   "source": [
    "for kernel in ['gaussian', 'tophat', 'epanechnikov', 'exponential', 'linear', 'cosine']:\n",
    "    for bandwidth in ['scott', 'silverman']:\n",
    "        mi = calc_kde_mi(X, Y, bandwidth, kernel)\n",
    "        print(f'Kernel: {kernel}, Bandwidth: {bandwidth}, I(X;Y) = {mi:.3f}')"
   ]
  },
  {
   "cell_type": "markdown",
   "id": "9841844d",
   "metadata": {},
   "source": [
    "### KNN Estimator"
   ]
  },
  {
   "cell_type": "code",
   "execution_count": 7,
   "id": "6af50323",
   "metadata": {},
   "outputs": [
    {
     "name": "stdout",
     "output_type": "stream",
     "text": [
      "k: 1, I(X;Y) = 1.031\n",
      "k: 2, I(X;Y) = 1.045\n",
      "k: 3, I(X;Y) = 1.049\n",
      "k: 4, I(X;Y) = 1.046\n",
      "k: 5, I(X;Y) = 1.040\n",
      "k: 6, I(X;Y) = 1.038\n",
      "k: 7, I(X;Y) = 1.036\n",
      "k: 8, I(X;Y) = 1.033\n",
      "k: 9, I(X;Y) = 1.032\n",
      "k: 10, I(X;Y) = 1.031\n",
      "k: 11, I(X;Y) = 1.029\n",
      "k: 12, I(X;Y) = 1.027\n",
      "k: 13, I(X;Y) = 1.027\n",
      "k: 14, I(X;Y) = 1.026\n",
      "k: 15, I(X;Y) = 1.025\n",
      "k: 16, I(X;Y) = 1.024\n",
      "k: 17, I(X;Y) = 1.021\n",
      "k: 18, I(X;Y) = 1.020\n",
      "k: 19, I(X;Y) = 1.019\n",
      "k: 20, I(X;Y) = 1.017\n"
     ]
    }
   ],
   "source": [
    "for k in range(1,21):\n",
    "    mi = calc_ksg_mi_cc(X, Y, k)\n",
    "    print(f'k: {k}, I(X;Y) = {mi:.3f}')"
   ]
  },
  {
   "cell_type": "markdown",
   "id": "e74936c2",
   "metadata": {},
   "source": [
    "### Neural Estimator"
   ]
  },
  {
   "cell_type": "code",
   "execution_count": 5,
   "id": "245b9482",
   "metadata": {},
   "outputs": [
    {
     "name": "stdout",
     "output_type": "stream",
     "text": [
      "Estimator: nwj, Critic: separable, I(X;Y) = 1.031\n",
      "Estimator: nwj, Critic: concat, I(X;Y) = 1.047\n",
      "Estimator: dv, Critic: separable, I(X;Y) = -8.773\n",
      "Estimator: dv, Critic: concat, I(X;Y) = -0.002\n",
      "Estimator: cpc, Critic: separable, I(X;Y) = -0.758\n",
      "Estimator: cpc, Critic: concat, I(X;Y) = -0.968\n",
      "Estimator: js, Critic: separable, I(X;Y) = 1.022\n",
      "Estimator: js, Critic: concat, I(X;Y) = 1.028\n",
      "Estimator: smile, Critic: separable, I(X;Y) = 1.024\n",
      "Estimator: smile, Critic: concat, I(X;Y) = 1.034\n",
      "Estimator: nwj_direct, Critic: separable, I(X;Y) = 1.043\n",
      "Estimator: nwj_direct, Critic: concat, I(X;Y) = 1.048\n",
      "Estimator: mine_direct, Critic: separable, I(X;Y) = -9.225\n",
      "Estimator: mine_direct, Critic: concat, I(X;Y) = -0.257\n",
      "Estimator: js_direct, Critic: separable, I(X;Y) = 1.026\n",
      "Estimator: js_direct, Critic: concat, I(X;Y) = 1.035\n"
     ]
    }
   ],
   "source": [
    "X_tensor = tf.convert_to_tensor(X)\n",
    "Y_tensor = tf.convert_to_tensor(Y)\n",
    "\n",
    "estimators = {\n",
    "    'nwj' : {'train_obj': 'nwj', 'eval_type': 'nwj'},\n",
    "    'dv' : {'train_obj': 'dv', 'eval_type': 'dv'},\n",
    "    'cpc' : {'train_obj': 'cpc', 'eval_type': 'cpc'},\n",
    "    'js' : {'train_obj': 'js_fgan', 'eval_type': 'nwj'},\n",
    "    'smile': {'train_obj': 'js_fgan', 'eval_type': 'smile'},\n",
    "    'nwj_direct' : {'train_obj': 'nwj', 'eval_type': 'direct'},\n",
    "    'mine_direct' : {'train_obj': 'dv', 'eval_type': 'direct'},\n",
    "    'js_direct' : {'train_obj': 'js_fgan', 'eval_type': 'direct'},\n",
    "}\n",
    "for estimator in estimators:\n",
    "    for critic in ['separable', 'concat']:\n",
    "        dataset = tf.data.Dataset.from_tensor_slices((X_tensor, Y_tensor)).batch(512)\n",
    "        mi = calc_neural_mi(dataset, n_epochs=100, critic=critic, train_obj=estimators[estimator]['train_obj'], eval_type=estimators[estimator]['eval_type'], print_mi=False)\n",
    "        print(f'Estimator: {estimator}, Critic: {critic}, I(X;Y) = {mi:.3f}')"
   ]
  }
 ],
 "metadata": {
  "kernelspec": {
   "display_name": "Python 3 (ipykernel)",
   "language": "python",
   "name": "python3"
  },
  "language_info": {
   "codemirror_mode": {
    "name": "ipython",
    "version": 3
   },
   "file_extension": ".py",
   "mimetype": "text/x-python",
   "name": "python",
   "nbconvert_exporter": "python",
   "pygments_lexer": "ipython3",
   "version": "3.10.12"
  }
 },
 "nbformat": 4,
 "nbformat_minor": 5
}
