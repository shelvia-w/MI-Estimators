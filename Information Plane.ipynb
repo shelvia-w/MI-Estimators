{
 "cells": [
  {
   "cell_type": "markdown",
   "id": "4dd812ee",
   "metadata": {},
   "source": [
    "## Information Plane Analysis"
   ]
  },
  {
   "cell_type": "code",
   "execution_count": 1,
   "id": "e678cbf9",
   "metadata": {},
   "outputs": [
    {
     "name": "stderr",
     "output_type": "stream",
     "text": [
      "2024-07-01 15:03:12.613306: E external/local_xla/xla/stream_executor/cuda/cuda_dnn.cc:9373] Unable to register cuDNN factory: Attempting to register factory for plugin cuDNN when one has already been registered\n",
      "2024-07-01 15:03:12.613369: E external/local_xla/xla/stream_executor/cuda/cuda_fft.cc:607] Unable to register cuFFT factory: Attempting to register factory for plugin cuFFT when one has already been registered\n",
      "2024-07-01 15:03:12.615083: E external/local_xla/xla/stream_executor/cuda/cuda_blas.cc:1534] Unable to register cuBLAS factory: Attempting to register factory for plugin cuBLAS when one has already been registered\n",
      "2024-07-01 15:03:12.623332: I tensorflow/core/platform/cpu_feature_guard.cc:183] This TensorFlow binary is optimized to use available CPU instructions in performance-critical operations.\n",
      "To enable the following instructions: SSE3 SSE4.1 SSE4.2 AVX, in other operations, rebuild TensorFlow with the appropriate compiler flags.\n"
     ]
    }
   ],
   "source": [
    "import tensorflow as tf\n",
    "from tensorflow.keras.layers import Flatten, Dense\n",
    "import tensorflow_datasets as tfds\n",
    "import matplotlib.pyplot as plt\n",
    "import numpy as np\n",
    "import pickle\n",
    "\n",
    "from estimators.knn_estimators import calc_ksg_mi_cc, calc_ksg_mi_cd\n",
    "from estimators.neural_estimators import calc_neural_mi"
   ]
  },
  {
   "cell_type": "markdown",
   "id": "af8babea",
   "metadata": {},
   "source": [
    "### Load and Preprocess Dataset"
   ]
  },
  {
   "cell_type": "code",
   "execution_count": 2,
   "id": "dfb06bd7",
   "metadata": {},
   "outputs": [
    {
     "name": "stderr",
     "output_type": "stream",
     "text": [
      "2024-07-01 15:03:30.453714: I tensorflow/core/common_runtime/gpu/gpu_device.cc:1926] Created device /job:localhost/replica:0/task:0/device:GPU:0 with 78823 MB memory:  -> device: 0, name: NVIDIA A100-SXM4-80GB, pci bus id: 0000:87:00.0, compute capability: 8.0\n"
     ]
    }
   ],
   "source": [
    "def normalize_img(image, label):\n",
    "    return tf.cast(image, tf.float32) / 255., label\n",
    "\n",
    "def onehot_encode(image, label, n_classes):\n",
    "    label = tf.one_hot(label, depth=n_classes)\n",
    "    return image, label\n",
    "\n",
    "(ds_train, ds_test), ds_info = tfds.load('mnist',\n",
    "                                         split=['train', 'test'],\n",
    "                                         data_dir = '../tensorflow_datasets/',\n",
    "                                         shuffle_files=True,\n",
    "                                         as_supervised=True,\n",
    "                                         with_info=True,)\n",
    "n_classes = ds_info.features['label'].num_classes\n",
    "ds_train = ds_train.map(lambda x,y: normalize_img(x,y), num_parallel_calls=tf.data.AUTOTUNE)\n",
    "ds_train = ds_train.map(lambda x,y: onehot_encode(x,y,n_classes), num_parallel_calls=tf.data.AUTOTUNE)\n",
    "ds_train = ds_train.batch(256).cache().prefetch(tf.data.AUTOTUNE)\n",
    "ds_test = ds_test.map(lambda x,y: normalize_img(x,y), num_parallel_calls=tf.data.AUTOTUNE)\n",
    "ds_test = ds_test.map(lambda x,y: onehot_encode(x,y,n_classes), num_parallel_calls=tf.data.AUTOTUNE)\n",
    "ds_test = ds_test.batch(256).cache().prefetch(tf.data.AUTOTUNE)"
   ]
  },
  {
   "cell_type": "markdown",
   "id": "5291059a",
   "metadata": {},
   "source": [
    "### Create and Train Model"
   ]
  },
  {
   "cell_type": "code",
   "execution_count": 42,
   "id": "24b58e8c",
   "metadata": {},
   "outputs": [],
   "source": [
    "model = tf.keras.Sequential()\n",
    "model.add(Flatten(input_shape=(ds_train.element_spec[0].shape[1:])))\n",
    "model.add(Dense(128, activation='relu'))\n",
    "model.add(Dense(128, activation='relu'))\n",
    "model.add(Dense(128, activation='relu'))\n",
    "model.add(Dense(ds_train.element_spec[1].shape[1], activation='linear'))"
   ]
  },
  {
   "cell_type": "code",
   "execution_count": 43,
   "id": "4859c467",
   "metadata": {
    "scrolled": true
   },
   "outputs": [
    {
     "name": "stdout",
     "output_type": "stream",
     "text": [
      "235/235 [==============================] - 1s 1ms/step - loss: 2.3207 - accuracy: 0.0619\n",
      "40/40 [==============================] - 0s 1ms/step - loss: 2.3223 - accuracy: 0.0572\n",
      "Epoch 1/50\n",
      "212/235 [==========================>...] - ETA: 0s - loss: 0.4176 - accuracy: 0.8805\n",
      "Epoch 1: saving model to ../results/Information_Bottleneck/saved_models/epoch_01.keras\n",
      "235/235 [==============================] - 2s 3ms/step - loss: 0.3960 - accuracy: 0.8867 - val_loss: 0.1678 - val_accuracy: 0.9491\n",
      "Epoch 2/50\n",
      "235/235 [==============================] - ETA: 0s - loss: 0.1434 - accuracy: 0.9579\n",
      "Epoch 2: saving model to ../results/Information_Bottleneck/saved_models/epoch_02.keras\n",
      "235/235 [==============================] - 1s 3ms/step - loss: 0.1434 - accuracy: 0.9579 - val_loss: 0.1239 - val_accuracy: 0.9614\n",
      "Epoch 3/50\n",
      "211/235 [=========================>....] - ETA: 0s - loss: 0.1015 - accuracy: 0.9699\n",
      "Epoch 3: saving model to ../results/Information_Bottleneck/saved_models/epoch_03.keras\n",
      "235/235 [==============================] - 1s 3ms/step - loss: 0.1000 - accuracy: 0.9706 - val_loss: 0.1121 - val_accuracy: 0.9640\n",
      "Epoch 4/50\n",
      "217/235 [==========================>...] - ETA: 0s - loss: 0.0779 - accuracy: 0.9772\n",
      "Epoch 4: saving model to ../results/Information_Bottleneck/saved_models/epoch_04.keras\n",
      "235/235 [==============================] - 1s 3ms/step - loss: 0.0770 - accuracy: 0.9774 - val_loss: 0.0948 - val_accuracy: 0.9693\n",
      "Epoch 5/50\n",
      "222/235 [===========================>..] - ETA: 0s - loss: 0.0616 - accuracy: 0.9819\n",
      "Epoch 5: saving model to ../results/Information_Bottleneck/saved_models/epoch_05.keras\n",
      "235/235 [==============================] - 1s 3ms/step - loss: 0.0613 - accuracy: 0.9821 - val_loss: 0.0826 - val_accuracy: 0.9736\n",
      "Epoch 6/50\n",
      "216/235 [==========================>...] - ETA: 0s - loss: 0.0502 - accuracy: 0.9854\n",
      "Epoch 6: saving model to ../results/Information_Bottleneck/saved_models/epoch_06.keras\n",
      "235/235 [==============================] - 1s 3ms/step - loss: 0.0497 - accuracy: 0.9855 - val_loss: 0.0824 - val_accuracy: 0.9753\n",
      "Epoch 7/50\n",
      "217/235 [==========================>...] - ETA: 0s - loss: 0.0428 - accuracy: 0.9872\n",
      "Epoch 7: saving model to ../results/Information_Bottleneck/saved_models/epoch_07.keras\n",
      "235/235 [==============================] - 1s 3ms/step - loss: 0.0424 - accuracy: 0.9873 - val_loss: 0.0815 - val_accuracy: 0.9749\n",
      "Epoch 8/50\n",
      "215/235 [==========================>...] - ETA: 0s - loss: 0.0363 - accuracy: 0.9891\n",
      "Epoch 8: saving model to ../results/Information_Bottleneck/saved_models/epoch_08.keras\n",
      "235/235 [==============================] - 1s 3ms/step - loss: 0.0361 - accuracy: 0.9890 - val_loss: 0.0909 - val_accuracy: 0.9725\n",
      "Epoch 9/50\n",
      "213/235 [==========================>...] - ETA: 0s - loss: 0.0307 - accuracy: 0.9910\n",
      "Epoch 9: saving model to ../results/Information_Bottleneck/saved_models/epoch_09.keras\n",
      "235/235 [==============================] - 1s 3ms/step - loss: 0.0308 - accuracy: 0.9909 - val_loss: 0.0966 - val_accuracy: 0.9712\n",
      "Epoch 10/50\n",
      "212/235 [==========================>...] - ETA: 0s - loss: 0.0272 - accuracy: 0.9916\n",
      "Epoch 10: saving model to ../results/Information_Bottleneck/saved_models/epoch_10.keras\n",
      "235/235 [==============================] - 1s 3ms/step - loss: 0.0266 - accuracy: 0.9919 - val_loss: 0.0986 - val_accuracy: 0.9729\n",
      "Epoch 11/50\n",
      "216/235 [==========================>...] - ETA: 0s - loss: 0.0243 - accuracy: 0.9924\n",
      "Epoch 11: saving model to ../results/Information_Bottleneck/saved_models/epoch_11.keras\n",
      "235/235 [==============================] - 1s 3ms/step - loss: 0.0244 - accuracy: 0.9924 - val_loss: 0.0963 - val_accuracy: 0.9742\n",
      "Epoch 12/50\n",
      "214/235 [==========================>...] - ETA: 0s - loss: 0.0213 - accuracy: 0.9932\n",
      "Epoch 12: saving model to ../results/Information_Bottleneck/saved_models/epoch_12.keras\n",
      "235/235 [==============================] - 1s 3ms/step - loss: 0.0211 - accuracy: 0.9933 - val_loss: 0.0983 - val_accuracy: 0.9749\n",
      "Epoch 13/50\n",
      "216/235 [==========================>...] - ETA: 0s - loss: 0.0182 - accuracy: 0.9941\n",
      "Epoch 13: saving model to ../results/Information_Bottleneck/saved_models/epoch_13.keras\n",
      "235/235 [==============================] - 1s 3ms/step - loss: 0.0179 - accuracy: 0.9943 - val_loss: 0.0964 - val_accuracy: 0.9750\n",
      "Epoch 14/50\n",
      "235/235 [==============================] - ETA: 0s - loss: 0.0155 - accuracy: 0.9948\n",
      "Epoch 14: saving model to ../results/Information_Bottleneck/saved_models/epoch_14.keras\n",
      "235/235 [==============================] - 1s 3ms/step - loss: 0.0155 - accuracy: 0.9948 - val_loss: 0.0893 - val_accuracy: 0.9798\n",
      "Epoch 15/50\n",
      "213/235 [==========================>...] - ETA: 0s - loss: 0.0137 - accuracy: 0.9956\n",
      "Epoch 15: saving model to ../results/Information_Bottleneck/saved_models/epoch_15.keras\n",
      "235/235 [==============================] - 1s 3ms/step - loss: 0.0134 - accuracy: 0.9958 - val_loss: 0.0915 - val_accuracy: 0.9786\n",
      "Epoch 16/50\n",
      "215/235 [==========================>...] - ETA: 0s - loss: 0.0139 - accuracy: 0.9954\n",
      "Epoch 16: saving model to ../results/Information_Bottleneck/saved_models/epoch_16.keras\n",
      "235/235 [==============================] - 1s 3ms/step - loss: 0.0138 - accuracy: 0.9954 - val_loss: 0.1080 - val_accuracy: 0.9762\n",
      "Epoch 17/50\n",
      "215/235 [==========================>...] - ETA: 0s - loss: 0.0149 - accuracy: 0.9949\n",
      "Epoch 17: saving model to ../results/Information_Bottleneck/saved_models/epoch_17.keras\n",
      "235/235 [==============================] - 1s 3ms/step - loss: 0.0148 - accuracy: 0.9949 - val_loss: 0.0949 - val_accuracy: 0.9784\n",
      "Epoch 18/50\n",
      "215/235 [==========================>...] - ETA: 0s - loss: 0.0132 - accuracy: 0.9955\n",
      "Epoch 18: saving model to ../results/Information_Bottleneck/saved_models/epoch_18.keras\n",
      "235/235 [==============================] - 1s 3ms/step - loss: 0.0129 - accuracy: 0.9956 - val_loss: 0.1077 - val_accuracy: 0.9755\n",
      "Epoch 19/50\n",
      "215/235 [==========================>...] - ETA: 0s - loss: 0.0096 - accuracy: 0.9969\n",
      "Epoch 19: saving model to ../results/Information_Bottleneck/saved_models/epoch_19.keras\n",
      "235/235 [==============================] - 1s 3ms/step - loss: 0.0096 - accuracy: 0.9969 - val_loss: 0.1338 - val_accuracy: 0.9722\n",
      "Epoch 20/50\n",
      "211/235 [=========================>....] - ETA: 0s - loss: 0.0099 - accuracy: 0.9968\n",
      "Epoch 20: saving model to ../results/Information_Bottleneck/saved_models/epoch_20.keras\n",
      "235/235 [==============================] - 1s 3ms/step - loss: 0.0094 - accuracy: 0.9970 - val_loss: 0.0995 - val_accuracy: 0.9788\n",
      "Epoch 21/50\n",
      "215/235 [==========================>...] - ETA: 0s - loss: 0.0103 - accuracy: 0.9963\n",
      "Epoch 21: saving model to ../results/Information_Bottleneck/saved_models/epoch_21.keras\n",
      "235/235 [==============================] - 1s 3ms/step - loss: 0.0107 - accuracy: 0.9962 - val_loss: 0.1035 - val_accuracy: 0.9783\n",
      "Epoch 22/50\n",
      "213/235 [==========================>...] - ETA: 0s - loss: 0.0088 - accuracy: 0.9969\n",
      "Epoch 22: saving model to ../results/Information_Bottleneck/saved_models/epoch_22.keras\n",
      "235/235 [==============================] - 1s 3ms/step - loss: 0.0090 - accuracy: 0.9969 - val_loss: 0.1278 - val_accuracy: 0.9725\n",
      "Epoch 23/50\n",
      "212/235 [==========================>...] - ETA: 0s - loss: 0.0083 - accuracy: 0.9970\n",
      "Epoch 23: saving model to ../results/Information_Bottleneck/saved_models/epoch_23.keras\n",
      "235/235 [==============================] - 1s 3ms/step - loss: 0.0083 - accuracy: 0.9970 - val_loss: 0.1139 - val_accuracy: 0.9763\n",
      "Epoch 24/50\n",
      "211/235 [=========================>....] - ETA: 0s - loss: 0.0074 - accuracy: 0.9974\n",
      "Epoch 24: saving model to ../results/Information_Bottleneck/saved_models/epoch_24.keras\n",
      "235/235 [==============================] - 1s 3ms/step - loss: 0.0075 - accuracy: 0.9974 - val_loss: 0.1099 - val_accuracy: 0.9773\n",
      "Epoch 25/50\n",
      "209/235 [=========================>....] - ETA: 0s - loss: 0.0080 - accuracy: 0.9973\n",
      "Epoch 25: saving model to ../results/Information_Bottleneck/saved_models/epoch_25.keras\n",
      "235/235 [==============================] - 1s 3ms/step - loss: 0.0080 - accuracy: 0.9972 - val_loss: 0.1121 - val_accuracy: 0.9773\n",
      "Epoch 26/50\n",
      "210/235 [=========================>....] - ETA: 0s - loss: 0.0080 - accuracy: 0.9973\n",
      "Epoch 26: saving model to ../results/Information_Bottleneck/saved_models/epoch_26.keras\n",
      "235/235 [==============================] - 1s 3ms/step - loss: 0.0075 - accuracy: 0.9974 - val_loss: 0.1036 - val_accuracy: 0.9789\n",
      "Epoch 27/50\n",
      "212/235 [==========================>...] - ETA: 0s - loss: 0.0084 - accuracy: 0.9971\n",
      "Epoch 27: saving model to ../results/Information_Bottleneck/saved_models/epoch_27.keras\n",
      "235/235 [==============================] - 1s 3ms/step - loss: 0.0089 - accuracy: 0.9970 - val_loss: 0.1208 - val_accuracy: 0.9758\n",
      "Epoch 28/50\n",
      "216/235 [==========================>...] - ETA: 0s - loss: 0.0077 - accuracy: 0.9972\n",
      "Epoch 28: saving model to ../results/Information_Bottleneck/saved_models/epoch_28.keras\n",
      "235/235 [==============================] - 1s 3ms/step - loss: 0.0074 - accuracy: 0.9972 - val_loss: 0.1139 - val_accuracy: 0.9777\n",
      "Epoch 29/50\n",
      "217/235 [==========================>...] - ETA: 0s - loss: 0.0065 - accuracy: 0.9978\n",
      "Epoch 29: saving model to ../results/Information_Bottleneck/saved_models/epoch_29.keras\n",
      "235/235 [==============================] - 1s 3ms/step - loss: 0.0064 - accuracy: 0.9978 - val_loss: 0.1084 - val_accuracy: 0.9797\n",
      "Epoch 30/50\n",
      "210/235 [=========================>....] - ETA: 0s - loss: 0.0059 - accuracy: 0.9979\n",
      "Epoch 30: saving model to ../results/Information_Bottleneck/saved_models/epoch_30.keras\n",
      "235/235 [==============================] - 1s 3ms/step - loss: 0.0060 - accuracy: 0.9979 - val_loss: 0.1063 - val_accuracy: 0.9814\n",
      "Epoch 31/50\n",
      "215/235 [==========================>...] - ETA: 0s - loss: 0.0055 - accuracy: 0.9983\n",
      "Epoch 31: saving model to ../results/Information_Bottleneck/saved_models/epoch_31.keras\n",
      "235/235 [==============================] - 1s 3ms/step - loss: 0.0055 - accuracy: 0.9984 - val_loss: 0.1281 - val_accuracy: 0.9763\n",
      "Epoch 32/50\n",
      "214/235 [==========================>...] - ETA: 0s - loss: 0.0052 - accuracy: 0.9983\n",
      "Epoch 32: saving model to ../results/Information_Bottleneck/saved_models/epoch_32.keras\n",
      "235/235 [==============================] - 1s 3ms/step - loss: 0.0051 - accuracy: 0.9984 - val_loss: 0.1312 - val_accuracy: 0.9779\n",
      "Epoch 33/50\n",
      "214/235 [==========================>...] - ETA: 0s - loss: 0.0056 - accuracy: 0.9983\n",
      "Epoch 33: saving model to ../results/Information_Bottleneck/saved_models/epoch_33.keras\n",
      "235/235 [==============================] - 1s 3ms/step - loss: 0.0052 - accuracy: 0.9984 - val_loss: 0.1098 - val_accuracy: 0.9807\n",
      "Epoch 34/50\n",
      "217/235 [==========================>...] - ETA: 0s - loss: 0.0075 - accuracy: 0.9977\n",
      "Epoch 34: saving model to ../results/Information_Bottleneck/saved_models/epoch_34.keras\n",
      "235/235 [==============================] - 1s 3ms/step - loss: 0.0076 - accuracy: 0.9976 - val_loss: 0.1497 - val_accuracy: 0.9746\n",
      "Epoch 35/50\n",
      "217/235 [==========================>...] - ETA: 0s - loss: 0.0078 - accuracy: 0.9977\n",
      "Epoch 35: saving model to ../results/Information_Bottleneck/saved_models/epoch_35.keras\n",
      "235/235 [==============================] - 1s 3ms/step - loss: 0.0077 - accuracy: 0.9977 - val_loss: 0.1202 - val_accuracy: 0.9793\n",
      "Epoch 36/50\n",
      "215/235 [==========================>...] - ETA: 0s - loss: 0.0084 - accuracy: 0.9973\n",
      "Epoch 36: saving model to ../results/Information_Bottleneck/saved_models/epoch_36.keras\n",
      "235/235 [==============================] - 1s 3ms/step - loss: 0.0083 - accuracy: 0.9974 - val_loss: 0.1155 - val_accuracy: 0.9789\n",
      "Epoch 37/50\n",
      "217/235 [==========================>...] - ETA: 0s - loss: 0.0045 - accuracy: 0.9985\n",
      "Epoch 37: saving model to ../results/Information_Bottleneck/saved_models/epoch_37.keras\n",
      "235/235 [==============================] - 1s 3ms/step - loss: 0.0044 - accuracy: 0.9985 - val_loss: 0.1101 - val_accuracy: 0.9811\n",
      "Epoch 38/50\n",
      "216/235 [==========================>...] - ETA: 0s - loss: 0.0018 - accuracy: 0.9995\n",
      "Epoch 38: saving model to ../results/Information_Bottleneck/saved_models/epoch_38.keras\n",
      "235/235 [==============================] - 1s 3ms/step - loss: 0.0017 - accuracy: 0.9995 - val_loss: 0.1136 - val_accuracy: 0.9816\n",
      "Epoch 39/50\n",
      "213/235 [==========================>...] - ETA: 0s - loss: 0.0041 - accuracy: 0.9985\n",
      "Epoch 39: saving model to ../results/Information_Bottleneck/saved_models/epoch_39.keras\n",
      "235/235 [==============================] - 1s 3ms/step - loss: 0.0048 - accuracy: 0.9983 - val_loss: 0.1488 - val_accuracy: 0.9756\n",
      "Epoch 40/50\n",
      "212/235 [==========================>...] - ETA: 0s - loss: 0.0086 - accuracy: 0.9970\n",
      "Epoch 40: saving model to ../results/Information_Bottleneck/saved_models/epoch_40.keras\n",
      "235/235 [==============================] - 1s 3ms/step - loss: 0.0082 - accuracy: 0.9972 - val_loss: 0.1417 - val_accuracy: 0.9772\n",
      "Epoch 41/50\n",
      "213/235 [==========================>...] - ETA: 0s - loss: 0.0068 - accuracy: 0.9978\n",
      "Epoch 41: saving model to ../results/Information_Bottleneck/saved_models/epoch_41.keras\n",
      "235/235 [==============================] - 1s 3ms/step - loss: 0.0065 - accuracy: 0.9979 - val_loss: 0.1243 - val_accuracy: 0.9790\n",
      "Epoch 42/50\n",
      "211/235 [=========================>....] - ETA: 0s - loss: 0.0063 - accuracy: 0.9979\n",
      "Epoch 42: saving model to ../results/Information_Bottleneck/saved_models/epoch_42.keras\n",
      "235/235 [==============================] - 1s 3ms/step - loss: 0.0061 - accuracy: 0.9980 - val_loss: 0.1238 - val_accuracy: 0.9791\n",
      "Epoch 43/50\n",
      "230/235 [============================>.] - ETA: 0s - loss: 0.0036 - accuracy: 0.9986\n",
      "Epoch 43: saving model to ../results/Information_Bottleneck/saved_models/epoch_43.keras\n",
      "235/235 [==============================] - 1s 3ms/step - loss: 0.0039 - accuracy: 0.9986 - val_loss: 0.1439 - val_accuracy: 0.9783\n",
      "Epoch 44/50\n",
      "210/235 [=========================>....] - ETA: 0s - loss: 0.0072 - accuracy: 0.9979\n",
      "Epoch 44: saving model to ../results/Information_Bottleneck/saved_models/epoch_44.keras\n",
      "235/235 [==============================] - 1s 3ms/step - loss: 0.0071 - accuracy: 0.9979 - val_loss: 0.1207 - val_accuracy: 0.9798\n",
      "Epoch 45/50\n",
      "209/235 [=========================>....] - ETA: 0s - loss: 0.0032 - accuracy: 0.9989\n",
      "Epoch 45: saving model to ../results/Information_Bottleneck/saved_models/epoch_45.keras\n",
      "235/235 [==============================] - 1s 3ms/step - loss: 0.0033 - accuracy: 0.9988 - val_loss: 0.1230 - val_accuracy: 0.9797\n",
      "Epoch 46/50\n",
      "213/235 [==========================>...] - ETA: 0s - loss: 0.0035 - accuracy: 0.9989\n",
      "Epoch 46: saving model to ../results/Information_Bottleneck/saved_models/epoch_46.keras\n",
      "235/235 [==============================] - 1s 3ms/step - loss: 0.0035 - accuracy: 0.9989 - val_loss: 0.1434 - val_accuracy: 0.9781\n",
      "Epoch 47/50\n",
      "230/235 [============================>.] - ETA: 0s - loss: 0.0047 - accuracy: 0.9982\n",
      "Epoch 47: saving model to ../results/Information_Bottleneck/saved_models/epoch_47.keras\n",
      "235/235 [==============================] - 1s 3ms/step - loss: 0.0047 - accuracy: 0.9983 - val_loss: 0.1272 - val_accuracy: 0.9793\n",
      "Epoch 48/50\n",
      "234/235 [============================>.] - ETA: 0s - loss: 0.0053 - accuracy: 0.9984\n",
      "Epoch 48: saving model to ../results/Information_Bottleneck/saved_models/epoch_48.keras\n",
      "235/235 [==============================] - 1s 3ms/step - loss: 0.0053 - accuracy: 0.9984 - val_loss: 0.1307 - val_accuracy: 0.9788\n",
      "Epoch 49/50\n",
      "212/235 [==========================>...] - ETA: 0s - loss: 0.0047 - accuracy: 0.9982\n",
      "Epoch 49: saving model to ../results/Information_Bottleneck/saved_models/epoch_49.keras\n",
      "235/235 [==============================] - 1s 3ms/step - loss: 0.0048 - accuracy: 0.9983 - val_loss: 0.1408 - val_accuracy: 0.9777\n",
      "Epoch 50/50\n",
      "211/235 [=========================>....] - ETA: 0s - loss: 0.0060 - accuracy: 0.9984\n",
      "Epoch 50: saving model to ../results/Information_Bottleneck/saved_models/epoch_50.keras\n",
      "235/235 [==============================] - 1s 3ms/step - loss: 0.0060 - accuracy: 0.9983 - val_loss: 0.1331 - val_accuracy: 0.9800\n"
     ]
    }
   ],
   "source": [
    "optimizer = tf.keras.optimizers.Adam(learning_rate=0.001)\n",
    "loss_fn = tf.keras.losses.CategoricalCrossentropy(from_logits=True)\n",
    "model.compile(loss=loss_fn, optimizer=optimizer, metrics=['accuracy'])\n",
    "\n",
    "all_train_loss = []\n",
    "all_train_acc = []\n",
    "all_test_loss = []\n",
    "all_test_acc = []\n",
    "\n",
    "train_loss, train_acc = model.evaluate(ds_train)\n",
    "test_loss, test_acc = model.evaluate(ds_test)\n",
    "\n",
    "all_train_loss.append(train_loss)\n",
    "all_train_acc.append(train_acc)\n",
    "all_test_loss.append(test_loss)\n",
    "all_test_acc.append(test_acc)\n",
    "\n",
    "model.save('../results/Information_Bottleneck/saved_models/epoch_00.keras')\n",
    "\n",
    "model_checkpoint_callback = tf.keras.callbacks.ModelCheckpoint(\n",
    "    filepath='../results/Information_Bottleneck/saved_models/epoch_{epoch:02d}.keras',\n",
    "    save_weights_only=False,\n",
    "    save_best_only=False,\n",
    "    verbose=1\n",
    ")\n",
    "\n",
    "history = model.fit(ds_train, verbose=1, epochs=50, validation_data=ds_test, callbacks=[model_checkpoint_callback])\n",
    "\n",
    "all_train_loss.extend(history.history['loss'])\n",
    "all_train_acc.extend(history.history['accuracy'])\n",
    "all_test_loss.extend(history.history['val_loss'])\n",
    "all_test_acc.extend(history.history['val_accuracy'])"
   ]
  },
  {
   "cell_type": "code",
   "execution_count": 67,
   "id": "e1f9093a",
   "metadata": {},
   "outputs": [
    {
     "data": {
      "text/plain": [
       "Text(0, 0.5, 'Accuracy')"
      ]
     },
     "execution_count": 67,
     "metadata": {},
     "output_type": "execute_result"
    },
    {
     "data": {
      "image/png": "[encoded data removed]",
      "text/plain": [
       "<Figure size 900x300 with 2 Axes>"
      ]
     },
     "metadata": {},
     "output_type": "display_data"
    }
   ],
   "source": [
    "fig, axs =  plt.subplots(1, 2, figsize=(9, 3), dpi=100)\n",
    "axs[0].plot(range(51), all_train_loss, c='tab:blue', label='train')\n",
    "axs[0].plot(range(51), all_test_loss, c='tab:orange', label='test')\n",
    "axs[0].legend(loc='upper right')\n",
    "axs[0].set_xlabel('Epoch', fontsize=11)\n",
    "axs[0].set_ylabel('Loss', fontsize=11)\n",
    "axs[1].plot(range(51), all_train_acc, c='tab:blue', label='train')\n",
    "axs[1].plot(range(51), all_test_acc, c='tab:orange', label='test')\n",
    "axs[1].legend(loc='lower right')\n",
    "axs[1].set_xlabel('Epoch', fontsize=11)\n",
    "axs[1].set_ylabel('Accuracy', fontsize=11)\n",
    "plt.show()"
   ]
  },
  {
   "cell_type": "markdown",
   "id": "40a37a36",
   "metadata": {},
   "source": [
    "### Compute MI"
   ]
  },
  {
   "cell_type": "code",
   "execution_count": 5,
   "id": "daddb718",
   "metadata": {
    "scrolled": true
   },
   "outputs": [
    {
     "name": "stderr",
     "output_type": "stream",
     "text": [
      "WARNING:absl:Skipping variable loading for optimizer 'Adam', because it has 17 variables whereas the saved optimizer has 1 variables. \n"
     ]
    },
    {
     "name": "stdout",
     "output_type": "stream",
     "text": [
      "00/51: I(T;Y)=1.873, I(X;T)=0.004\n",
      "01/51: I(T;Y)=0.673, I(X;T)=1.593\n",
      "02/51: I(T;Y)=1.107, I(X;T)=1.372\n",
      "03/51: I(T;Y)=1.276, I(X;T)=1.143\n",
      "04/51: I(T;Y)=1.358, I(X;T)=0.969\n",
      "05/51: I(T;Y)=1.418, I(X;T)=0.808\n",
      "06/51: I(T;Y)=1.447, I(X;T)=0.730\n",
      "07/51: I(T;Y)=1.470, I(X;T)=0.687\n",
      "08/51: I(T;Y)=1.498, I(X;T)=0.633\n",
      "09/51: I(T;Y)=1.501, I(X;T)=0.589\n",
      "10/51: I(T;Y)=1.539, I(X;T)=0.540\n",
      "11/51: I(T;Y)=1.581, I(X;T)=0.510\n",
      "12/51: I(T;Y)=1.590, I(X;T)=0.491\n",
      "13/51: I(T;Y)=1.556, I(X;T)=0.463\n",
      "14/51: I(T;Y)=1.554, I(X;T)=0.448\n",
      "15/51: I(T;Y)=1.557, I(X;T)=0.438\n",
      "16/51: I(T;Y)=1.578, I(X;T)=0.401\n",
      "17/51: I(T;Y)=1.578, I(X;T)=0.399\n",
      "18/51: I(T;Y)=1.602, I(X;T)=0.374\n",
      "19/51: I(T;Y)=1.580, I(X;T)=0.340\n",
      "20/51: I(T;Y)=1.612, I(X;T)=0.317\n",
      "21/51: I(T;Y)=1.623, I(X;T)=0.312\n",
      "22/51: I(T;Y)=1.619, I(X;T)=0.291\n",
      "23/51: I(T;Y)=1.621, I(X;T)=0.275\n",
      "24/51: I(T;Y)=1.602, I(X;T)=0.239\n",
      "25/51: I(T;Y)=1.565, I(X;T)=0.267\n",
      "26/51: I(T;Y)=1.618, I(X;T)=0.211\n",
      "27/51: I(T;Y)=1.641, I(X;T)=0.207\n",
      "28/51: I(T;Y)=1.618, I(X;T)=0.188\n",
      "29/51: I(T;Y)=1.620, I(X;T)=0.211\n",
      "30/51: I(T;Y)=1.656, I(X;T)=0.181\n",
      "31/51: I(T;Y)=1.629, I(X;T)=0.162\n",
      "32/51: I(T;Y)=1.570, I(X;T)=0.160\n",
      "33/51: I(T;Y)=1.633, I(X;T)=0.145\n",
      "34/51: I(T;Y)=1.589, I(X;T)=0.116\n",
      "35/51: I(T;Y)=1.589, I(X;T)=0.116\n",
      "36/51: I(T;Y)=1.593, I(X;T)=0.115\n",
      "37/51: I(T;Y)=1.629, I(X;T)=0.087\n",
      "38/51: I(T;Y)=1.645, I(X;T)=0.072\n",
      "39/51: I(T;Y)=1.623, I(X;T)=0.076\n",
      "40/51: I(T;Y)=1.566, I(X;T)=0.060\n",
      "41/51: I(T;Y)=1.647, I(X;T)=0.057\n",
      "42/51: I(T;Y)=1.659, I(X;T)=0.047\n",
      "43/51: I(T;Y)=1.614, I(X;T)=0.048\n",
      "44/51: I(T;Y)=1.644, I(X;T)=0.044\n",
      "45/51: I(T;Y)=1.616, I(X;T)=0.030\n",
      "46/51: I(T;Y)=1.614, I(X;T)=0.022\n",
      "47/51: I(T;Y)=1.651, I(X;T)=0.026\n",
      "48/51: I(T;Y)=1.601, I(X;T)=0.025\n",
      "49/51: I(T;Y)=1.647, I(X;T)=0.019\n",
      "50/51: I(T;Y)=1.612, I(X;T)=0.013\n"
     ]
    }
   ],
   "source": [
    "mi_ty_ksg = []\n",
    "mi_xt_ksg = []\n",
    "\n",
    "x_list = []\n",
    "y_list = []\n",
    "# for x, y in ds_train:\n",
    "#     x_list.extend(x.numpy())\n",
    "#     y_list.extend(y.numpy())\n",
    "for x, y in ds_test:\n",
    "    x_list.extend(x.numpy())\n",
    "    y_list.extend(y.numpy())\n",
    "\n",
    "for epoch in range(51):\n",
    "    model = tf.keras.models.load_model(f\"../results/Information_Bottleneck/saved_models/epoch_{epoch:02d}.keras\")\n",
    "    int_model = tf.keras.Model(inputs=model.inputs, outputs=model.layers[-2].output)\n",
    "    activity = int_model.predict(np.array(x_list), verbose=0, batch_size=256)\n",
    "    mi_ty_ksg.append(calc_ksg_mi_cd(x=activity, y=np.squeeze(y_list)))\n",
    "    mi_xt_ksg.append(calc_ksg_mi_cc(x=np.reshape(x_list, (len(x_list),-1)), y=activity))\n",
    "    print(f'{epoch:02}/50: I(T;Y)={mi_ty_ksg[-1]:.3f}, I(X;T)={mi_xt_ksg[-1]:.3f}')"
   ]
  },
  {
   "cell_type": "code",
   "execution_count": 43,
   "id": "42ea2f4b",
   "metadata": {},
   "outputs": [],
   "source": [
    "results = {}\n",
    "results['mi_ty_ksg'] = mi_ty_ksg\n",
    "results['mi_xt_ksg'] = mi_xt_ksg\n",
    "\n",
    "with open(f\"../results/Information_Bottleneck/mi_ksg\", 'wb') as f:\n",
    "    pickle.dump(results, f, protocol=pickle.HIGHEST_PROTOCOL)"
   ]
  },
  {
   "cell_type": "code",
   "execution_count": 27,
   "id": "b0fc5c07",
   "metadata": {},
   "outputs": [
    {
     "data": {
      "image/png": "[encoded data removed]",
      "text/plain": [
       "<Figure size 400x300 with 2 Axes>"
      ]
     },
     "metadata": {},
     "output_type": "display_data"
    }
   ],
   "source": [
    "with open('../results/Information_Bottleneck/mi_ksg', 'rb') as f:\n",
    "    results = pickle.load(f)\n",
    "\n",
    "mi_ty_ksg = results['mi_ty_ksg']\n",
    "mi_xt_ksg = results['mi_xt_ksg']\n",
    "\n",
    "plt.figure(figsize=(4,3), dpi=100)\n",
    "plt.scatter(mi_xt_ksg, mi_ty_ksg, c=range(51))\n",
    "plt.colorbar(orientation='vertical', label='Epoch')\n",
    "plt.xlabel('I (X;T)')\n",
    "plt.ylabel('I (T;Y)')\n",
    "plt.title('Information Plane')\n",
    "plt.show()"
   ]
  },
  {
   "cell_type": "code",
   "execution_count": 22,
   "id": "ed101f97",
   "metadata": {
    "scrolled": true
   },
   "outputs": [
    {
     "name": "stderr",
     "output_type": "stream",
     "text": [
      "WARNING:absl:Skipping variable loading for optimizer 'Adam', because it has 17 variables whereas the saved optimizer has 1 variables. \n"
     ]
    },
    {
     "name": "stdout",
     "output_type": "stream",
     "text": [
      "00/50: I(T;Y)=1.932, I(X;T)=9.820\n",
      "01/50: I(T;Y)=2.178, I(X;T)=9.977\n",
      "02/50: I(T;Y)=2.191, I(X;T)=9.535\n",
      "03/50: I(T;Y)=2.201, I(X;T)=9.851\n",
      "04/50: I(T;Y)=2.227, I(X;T)=9.901\n",
      "05/50: I(T;Y)=2.220, I(X;T)=8.764\n",
      "06/50: I(T;Y)=2.225, I(X;T)=9.710\n",
      "07/50: I(T;Y)=2.244, I(X;T)=9.774\n",
      "08/50: I(T;Y)=2.248, I(X;T)=9.899\n",
      "09/50: I(T;Y)=2.263, I(X;T)=9.731\n",
      "10/50: I(T;Y)=2.258, I(X;T)=9.790\n",
      "11/50: I(T;Y)=2.250, I(X;T)=8.931\n",
      "12/50: I(T;Y)=2.259, I(X;T)=9.555\n",
      "13/50: I(T;Y)=2.268, I(X;T)=9.553\n",
      "14/50: I(T;Y)=2.266, I(X;T)=9.652\n",
      "15/50: I(T;Y)=2.258, I(X;T)=9.086\n",
      "16/50: I(T;Y)=2.241, I(X;T)=9.136\n",
      "17/50: I(T;Y)=2.262, I(X;T)=8.469\n",
      "18/50: I(T;Y)=2.238, I(X;T)=8.902\n",
      "19/50: I(T;Y)=2.261, I(X;T)=9.608\n",
      "20/50: I(T;Y)=2.270, I(X;T)=8.127\n",
      "21/50: I(T;Y)=2.269, I(X;T)=8.288\n",
      "22/50: I(T;Y)=2.248, I(X;T)=9.527\n",
      "23/50: I(T;Y)=2.265, I(X;T)=7.869\n",
      "24/50: I(T;Y)=2.267, I(X;T)=8.294\n",
      "25/50: I(T;Y)=2.275, I(X;T)=8.096\n",
      "26/50: I(T;Y)=2.262, I(X;T)=7.425\n",
      "27/50: I(T;Y)=2.265, I(X;T)=8.126\n",
      "28/50: I(T;Y)=2.262, I(X;T)=7.257\n",
      "29/50: I(T;Y)=2.273, I(X;T)=8.202\n",
      "30/50: I(T;Y)=2.277, I(X;T)=8.565\n",
      "31/50: I(T;Y)=2.269, I(X;T)=9.562\n",
      "32/50: I(T;Y)=2.267, I(X;T)=8.406\n",
      "33/50: I(T;Y)=2.270, I(X;T)=7.562\n",
      "34/50: I(T;Y)=2.272, I(X;T)=7.782\n",
      "35/50: I(T;Y)=2.285, I(X;T)=9.508\n",
      "36/50: I(T;Y)=2.277, I(X;T)=8.299\n",
      "37/50: I(T;Y)=2.272, I(X;T)=7.686\n",
      "38/50: I(T;Y)=2.282, I(X;T)=7.948\n",
      "39/50: I(T;Y)=2.277, I(X;T)=7.655\n",
      "40/50: I(T;Y)=2.270, I(X;T)=9.433\n",
      "41/50: I(T;Y)=2.278, I(X;T)=8.193\n",
      "42/50: I(T;Y)=2.283, I(X;T)=8.080\n",
      "43/50: I(T;Y)=2.276, I(X;T)=7.207\n",
      "44/50: I(T;Y)=2.269, I(X;T)=9.385\n",
      "45/50: I(T;Y)=2.285, I(X;T)=8.150\n",
      "46/50: I(T;Y)=2.271, I(X;T)=7.830\n",
      "47/50: I(T;Y)=2.270, I(X;T)=9.409\n",
      "48/50: I(T;Y)=2.281, I(X;T)=9.334\n",
      "49/50: I(T;Y)=2.278, I(X;T)=8.289\n",
      "50/50: I(T;Y)=2.276, I(X;T)=7.689\n"
     ]
    }
   ],
   "source": [
    "mi_ty_neural = []\n",
    "mi_xt_neural = []\n",
    "\n",
    "x_list = []\n",
    "y_list = []\n",
    "for x, y in ds_train:\n",
    "    x_list.extend(x.numpy())\n",
    "    y_list.extend(y.numpy())\n",
    "for x, y in ds_test:\n",
    "    x_list.extend(x.numpy())\n",
    "    y_list.extend(y.numpy())\n",
    "    \n",
    "x_tensor = tf.convert_to_tensor(np.reshape(x_list, (len(x_list),-1)))\n",
    "y_tensor = tf.convert_to_tensor(np.squeeze(y_list))\n",
    "\n",
    "for epoch in range(51):\n",
    "    model = tf.keras.models.load_model(f\"../results/Information_Bottleneck/saved_models/epoch_{epoch:02d}.keras\")\n",
    "    int_model = tf.keras.Model(inputs=model.inputs, outputs=model.layers[-2].output)\n",
    "    activity = int_model.predict(np.array(x_list), verbose=0, batch_size=256)\n",
    "    activity_tensor = tf.convert_to_tensor(activity)\n",
    "    dataset_ty = tf.data.Dataset.from_tensor_slices((activity_tensor, y_tensor)).batch(256)\n",
    "    mi_ty_neural.append(calc_neural_mi(dataset_ty, n_epochs=200, critic='concat', train_obj='js_fgan', eval_type='smile', print_mi=False, alpha=1.0, clip=5.0))\n",
    "    dataset_xt = tf.data.Dataset.from_tensor_slices((x_tensor, activity_tensor)).batch(256)\n",
    "    mi_xt_neural.append(calc_neural_mi(dataset_xt, n_epochs=200, critic='concat', train_obj='js_fgan', eval_type='smile', print_mi=False, alpha=1.0, clip=5.0))\n",
    "    print(f'{epoch:02}/50: I(T;Y)={mi_ty_neural[-1]:.3f}, I(X;T)={mi_xt_neural[-1]:.3f}')"
   ]
  },
  {
   "cell_type": "code",
   "execution_count": 23,
   "id": "aec5d634",
   "metadata": {},
   "outputs": [],
   "source": [
    "results = {}\n",
    "results['mi_ty_neural'] = mi_ty_neural\n",
    "results['mi_xt_neural'] = mi_xt_neural\n",
    "\n",
    "with open(f\"../results/Information_Bottleneck/mi_neural\", 'wb') as f:\n",
    "    pickle.dump(results, f, protocol=pickle.HIGHEST_PROTOCOL)"
   ]
  },
  {
   "cell_type": "code",
   "execution_count": 26,
   "id": "42fe4054",
   "metadata": {},
   "outputs": [
    {
     "data": {
      "image/png": "[encoded data removed]",
      "text/plain": [
       "<Figure size 400x300 with 2 Axes>"
      ]
     },
     "metadata": {},
     "output_type": "display_data"
    }
   ],
   "source": [
    "with open('../results/Information_Bottleneck/mi_neural', 'rb') as f:\n",
    "    results = pickle.load(f)\n",
    "\n",
    "mi_ty_neural = results['mi_ty_neural']\n",
    "mi_xt_neural = results['mi_xt_neural']\n",
    "\n",
    "plt.figure(figsize=(4,3), dpi=100)\n",
    "plt.scatter(mi_xt_neural, mi_ty_neural, c=range(51))\n",
    "plt.colorbar(orientation='vertical', label='Epoch')\n",
    "plt.xlabel('I (X;T)')\n",
    "plt.ylabel('I (T;Y)')\n",
    "plt.title('Information Plane')\n",
    "plt.show()"
   ]
  },
  {
   "cell_type": "code",
   "execution_count": null,
   "id": "9e37570d",
   "metadata": {},
   "outputs": [],
   "source": []
  }
 ],
 "metadata": {
  "kernelspec": {
   "display_name": "Python 3 (ipykernel)",
   "language": "python",
   "name": "python3"
  },
  "language_info": {
   "codemirror_mode": {
    "name": "ipython",
    "version": 3
   },
   "file_extension": ".py",
   "mimetype": "text/x-python",
   "name": "python",
   "nbconvert_exporter": "python",
   "pygments_lexer": "ipython3",
   "version": "3.10.12"
  }
 },
 "nbformat": 4,
 "nbformat_minor": 5
}
